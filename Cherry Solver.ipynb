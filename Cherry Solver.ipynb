{
 "cells": [
  {
   "cell_type": "code",
   "execution_count": 2,
   "metadata": {},
   "outputs": [],
   "source": [
    "import numpy as np\n",
    "import sympy as sym\n",
    "import matplotlib.pyplot as plt"
   ]
  },
  {
   "cell_type": "code",
   "execution_count": 3,
   "metadata": {},
   "outputs": [],
   "source": [
    "c11, c12, c13, c14, c15, c16 = sym.symbols('C11, C12, C13, C14, C15, C16')\n",
    "c21, c22, c23, c24, c25, c26 = sym.symbols('C21, C22, C23, C24, C25, C26')\n",
    "c31, c32, c33, c34, c35, c36 = sym.symbols('C31, C32, C33, C34, C35, C36')\n",
    "c41, c42, c43, c44, c45, c46 = sym.symbols('C41, C42, C43, C44, C45, C46')\n",
    "c51, c52, c53, c54, c55, c56 = sym.symbols('C51, C52, C53, C54, C55, C56')\n",
    "c61, c62, c63, c64, c65, c66 = sym.symbols('C61, C62, C63, C66, C65, C66')\n",
    "c21 = c12\n",
    "c31 = c13\n",
    "c41 = c14\n",
    "c51 = c15\n",
    "c61 = c16\n",
    "c32 = c23\n",
    "c42 = c24\n",
    "c52 = c25\n",
    "c62 = c26\n",
    "c43 = c34\n",
    "c53 = c35\n",
    "c63 = c36\n",
    "c54 = c45\n",
    "c64 = c46\n",
    "c65 = c56\n",
    "m1, m2, m3 = sym.symbols('m1, m2, m3')\n",
    "n1, n2, n3 = sym.symbols('n1, n2, n3')"
   ]
  },
  {
   "cell_type": "code",
   "execution_count": 5,
   "metadata": {
    "tags": []
   },
   "outputs": [],
   "source": [
    "# R-Matrix definitions\n",
    "r11 = c11*m1*n1 + c61*m2*n1 + c51*m3*n1 + c16*m1*n2 + c66*m2*n2 + c56*m2*n3 + c15*m3*n1 + c65*m3*n2 + c55*m3*n3\n",
    "r12 = c16*m1*n1 + c66*m2*n1 + c56*m3*n1 + c12*m1*n2 + c62*m2*n2 + c52*m2*n3 + c14*m3*n1 + c64*m3*n2 + c54*m3*n3\n",
    "r13 = c15*m1*n1 + c65*m2*n1 + c56*m3*n1 + c14*m1*n2 + c64*m2*n2 + c54*m2*n3 + c13*m3*n1 + c63*m3*n2 + c53*m3*n3\n",
    "r21 = c61*m1*n1 + c21*m2*n1 + c41*m3*n1 + c66*m1*n2 + c26*m2*n2 + c46*m2*n3 + c65*m3*n1 + c25*m3*n2 + c45*m3*n3\n",
    "r22 = c66*m1*n1 + c26*m2*n1 + c46*m3*n1 + c12*m1*n2 + c22*m2*n2 + c42*m2*n3 + c64*m3*n1 + c24*m3*n2 + c44*m3*n3\n",
    "r23 = c65*m1*n1 + c25*m2*n1 + c45*m3*n1 + c64*m1*n2 + c24*m2*n2 + c44*m2*n3 + c63*m3*n1 + c23*m3*n2 + c43*m3*n3\n",
    "r31 = c51*m1*n1 + c41*m2*n1 + c31*m3*n1 + c56*m1*n2 + c46*m2*n2 + c36*m2*n3 + c55*m3*n1 + c45*m3*n2 + c35*m3*n3\n",
    "r32 = c56*m1*n1 + c46*m2*n1 + c36*m3*n1 + c52*m1*n2 + c42*m2*n2 + c32*m2*n3 + c54*m3*n1 + c44*m3*n2 + c34*m3*n3\n",
    "r33 = c55*m1*n1 + c45*m2*n1 + c35*m3*n1 + c54*m1*n2 + c44*m2*n2 + c34*m2*n3 + c53*m3*n1 + c43*m3*n2 + c33*m3*n3\n",
    "# T-Matrix definitions\n",
    "t11 = c11*n1*n1 + c61*n2*n1 + c51*n3*n1 + c16*n1*n2 + c66*n2*n2 + c56*n2*n3 + c15*n3*n1 + c65*n3*n2 + c55*n3*n3\n",
    "t12 = c16*n1*n1 + c66*n2*n1 + c56*n3*n1 + c12*n1*n2 + c62*n2*n2 + c52*n2*n3 + c14*n3*n1 + c64*n3*n2 + c54*n3*n3\n",
    "t13 = c15*n1*n1 + c65*n2*n1 + c56*n3*n1 + c14*n1*n2 + c64*n2*n2 + c54*n2*n3 + c13*n3*n1 + c63*n3*n2 + c53*n3*n3\n",
    "t21 = c61*n1*n1 + c21*n2*n1 + c41*n3*n1 + c66*n1*n2 + c26*n2*n2 + c46*n2*n3 + c65*n3*n1 + c25*n3*n2 + c45*n3*n3\n",
    "t22 = c66*n1*n1 + c26*n2*n1 + c46*n3*n1 + c12*n1*n2 + c22*n2*n2 + c42*n2*n3 + c64*n3*n1 + c24*n3*n2 + c44*n3*n3\n",
    "t23 = c65*n1*n1 + c25*n2*n1 + c45*n3*n1 + c64*n1*n2 + c24*n2*n2 + c44*n2*n3 + c63*n3*n1 + c23*n3*n2 + c43*n3*n3\n",
    "t31 = c51*n1*n1 + c41*n2*n1 + c31*n3*n1 + c56*n1*n2 + c46*n2*n2 + c36*n2*n3 + c55*n3*n1 + c45*n3*n2 + c35*n3*n3\n",
    "t32 = c56*n1*n1 + c46*n2*n1 + c36*n3*n1 + c52*n1*n2 + c42*n2*n2 + c32*n2*n3 + c54*n3*n1 + c44*n3*n2 + c34*n3*n3\n",
    "t33 = c55*n1*n1 + c45*n2*n1 + c35*n3*n1 + c54*n1*n2 + c44*n2*n2 + c34*n2*n3 + c53*n3*n1 + c43*n3*n2 + c33*n3*n3\n",
    "\n",
    "# Q-Matrix definitions\n",
    "q11_1 = c11 + c61 + c51 + c16 + c66 + c56 + c15 + c65 + c55\n",
    "q12_1 = c16 + c66 + c56 + c12 + c62 + c52 + c14 + c64 + c54\n",
    "q13_1 = c15 + c65 + c56 + c14 + c64 + c54 + c13 + c63 + c53\n",
    "q21_1 = c61 + c21 + c41 + c66 + c26 + c46 + c65 + c25 + c45\n",
    "q22_1 = c66 + c26 + c46 + c12 + c22 + c42 + c64 + c24 + c44\n",
    "q23_1 = c65 + c25 + c45 + c64 + c24 + c44 + c63 + c23 + c43\n",
    "q31_1 = c51 + c41 + c31 + c56 + c46 + c36 + c55 + c45 + c35\n",
    "q32_1 = c56 + c46 + c36 + c52 + c42 + c32 + c54 + c44 + c34\n",
    "q33_1 = c55 + c45 + c35 + c54 + c44 + c34 + c53 + c43 + c33\n",
    "\n",
    "rho = sym.symbols('rho')\n",
    "v = sym.symbols('v')\n",
    "q1_mat = sym.Matrix([[q11_1, q12_1, q13_1], [q21_1, q22_1, q23_1], [q31_1, q32_1, q33_1]])\n",
    "q2_mat = sym.Matrix([[rho*(v**2), 0, 0], [0, rho*(v**2), 0], [0, 0, rho*(v**2)]])"
   ]
  },
  {
   "cell_type": "code",
   "execution_count": 6,
   "metadata": {},
   "outputs": [
    {
     "output_type": "error",
     "ename": "NameError",
     "evalue": "name 'sympy' is not defined",
     "traceback": [
      "\u001b[0;31m---------------------------------------------------------------------------\u001b[0m",
      "\u001b[0;31mNameError\u001b[0m                                 Traceback (most recent call last)",
      "\u001b[0;32m<ipython-input-6-ad80d6aae2b0>\u001b[0m in \u001b[0;36m<module>\u001b[0;34m\u001b[0m\n\u001b[0;32m----> 1\u001b[0;31m \u001b[0mr_mat\u001b[0m \u001b[0;34m=\u001b[0m \u001b[0msympy\u001b[0m\u001b[0;34m.\u001b[0m\u001b[0mMatrix\u001b[0m\u001b[0;34m(\u001b[0m\u001b[0;34m[\u001b[0m\u001b[0;34m[\u001b[0m\u001b[0mr11\u001b[0m\u001b[0;34m,\u001b[0m \u001b[0mr12\u001b[0m\u001b[0;34m,\u001b[0m \u001b[0mr13\u001b[0m\u001b[0;34m]\u001b[0m\u001b[0;34m,\u001b[0m \u001b[0;34m[\u001b[0m\u001b[0mr21\u001b[0m\u001b[0;34m,\u001b[0m \u001b[0mr22\u001b[0m\u001b[0;34m,\u001b[0m \u001b[0mr23\u001b[0m\u001b[0;34m]\u001b[0m\u001b[0;34m,\u001b[0m \u001b[0;34m[\u001b[0m\u001b[0mr31\u001b[0m\u001b[0;34m,\u001b[0m \u001b[0mr32\u001b[0m\u001b[0;34m,\u001b[0m \u001b[0mr33\u001b[0m\u001b[0;34m]\u001b[0m\u001b[0;34m]\u001b[0m\u001b[0;34m)\u001b[0m\u001b[0;34m\u001b[0m\u001b[0;34m\u001b[0m\u001b[0m\n\u001b[0m\u001b[1;32m      2\u001b[0m \u001b[0mt_mat\u001b[0m \u001b[0;34m=\u001b[0m \u001b[0msympy\u001b[0m\u001b[0;34m.\u001b[0m\u001b[0mMatrix\u001b[0m\u001b[0;34m(\u001b[0m\u001b[0;34m[\u001b[0m\u001b[0;34m[\u001b[0m\u001b[0mt11\u001b[0m\u001b[0;34m,\u001b[0m \u001b[0mt12\u001b[0m\u001b[0;34m,\u001b[0m \u001b[0mt13\u001b[0m\u001b[0;34m]\u001b[0m\u001b[0;34m,\u001b[0m \u001b[0;34m[\u001b[0m\u001b[0mt21\u001b[0m\u001b[0;34m,\u001b[0m \u001b[0mt22\u001b[0m\u001b[0;34m,\u001b[0m \u001b[0mt23\u001b[0m\u001b[0;34m]\u001b[0m\u001b[0;34m,\u001b[0m \u001b[0;34m[\u001b[0m\u001b[0mt31\u001b[0m\u001b[0;34m,\u001b[0m \u001b[0mt32\u001b[0m\u001b[0;34m,\u001b[0m \u001b[0mt33\u001b[0m\u001b[0;34m]\u001b[0m\u001b[0;34m]\u001b[0m\u001b[0;34m)\u001b[0m\u001b[0;34m\u001b[0m\u001b[0;34m\u001b[0m\u001b[0m\n\u001b[1;32m      3\u001b[0m \u001b[0mq_mat\u001b[0m \u001b[0;34m=\u001b[0m \u001b[0mq1_mat\u001b[0m \u001b[0;34m-\u001b[0m \u001b[0mq2_mat\u001b[0m\u001b[0;34m\u001b[0m\u001b[0;34m\u001b[0m\u001b[0m\n",
      "\u001b[0;31mNameError\u001b[0m: name 'sympy' is not defined"
     ]
    }
   ],
   "source": [
    "r_mat = sym.Matrix([[r11, r12, r13], [r21, r22, r23], [r31, r32, r33]])\n",
    "t_mat = sym.Matrix([[t11, t12, t13], [t21, t22, t23], [t31, t32, t33]])\n",
    "q_mat = q1_mat - q2_mat "
   ]
  },
  {
   "cell_type": "code",
   "execution_count": 16,
   "metadata": {},
   "outputs": [
    {
     "output_type": "execute_result",
     "data": {
      "text/plain": "Matrix([\n[C11*m1*n1 + C15*m3*n1 + C16*m1*n2 + C51*m3*n1 + C55*m3*n3 + C56*m2*n3 + C61*m2*n1 + C65*m3*n2 + C66*m2*n2, C12*m1*n2 + C14*m3*n1 + C16*m1*n1 + C52*m2*n3 + C54*m3*n3 + C56*m3*n1 + C62*m2*n2 + C66*m2*n1 + C66*m3*n2, C13*m3*n1 + C14*m1*n2 + C15*m1*n1 + C53*m3*n3 + C54*m2*n3 + C56*m3*n1 + C63*m3*n2 + C65*m2*n1 + C66*m2*n2],\n[C21*m2*n1 + C25*m3*n2 + C26*m2*n2 + C41*m3*n1 + C45*m3*n3 + C46*m2*n3 + C61*m1*n1 + C65*m3*n1 + C66*m1*n2, C12*m1*n2 + C22*m2*n2 + C24*m3*n2 + C26*m2*n1 + C42*m2*n3 + C44*m3*n3 + C46*m3*n1 + C66*m1*n1 + C66*m3*n1, C23*m3*n2 + C24*m2*n2 + C25*m2*n1 + C43*m3*n3 + C44*m2*n3 + C45*m3*n1 + C63*m3*n1 + C65*m1*n1 + C66*m1*n2],\n[C31*m3*n1 + C35*m3*n3 + C36*m2*n3 + C41*m2*n1 + C45*m3*n2 + C46*m2*n2 + C51*m1*n1 + C55*m3*n1 + C56*m1*n2, C32*m2*n3 + C34*m3*n3 + C36*m3*n1 + C42*m2*n2 + C44*m3*n2 + C46*m2*n1 + C52*m1*n2 + C54*m3*n1 + C56*m1*n1, C33*m3*n3 + C34*m2*n3 + C35*m3*n1 + C43*m3*n2 + C44*m2*n2 + C45*m2*n1 + C53*m3*n1 + C54*m1*n2 + C55*m1*n1]])",
      "text/latex": "$\\displaystyle \\left[\\begin{matrix}C_{11} m_{1} n_{1} + C_{15} m_{3} n_{1} + C_{16} m_{1} n_{2} + C_{51} m_{3} n_{1} + C_{55} m_{3} n_{3} + C_{56} m_{2} n_{3} + C_{61} m_{2} n_{1} + C_{65} m_{3} n_{2} + C_{66} m_{2} n_{2} & C_{12} m_{1} n_{2} + C_{14} m_{3} n_{1} + C_{16} m_{1} n_{1} + C_{52} m_{2} n_{3} + C_{54} m_{3} n_{3} + C_{56} m_{3} n_{1} + C_{62} m_{2} n_{2} + C_{66} m_{2} n_{1} + C_{66} m_{3} n_{2} & C_{13} m_{3} n_{1} + C_{14} m_{1} n_{2} + C_{15} m_{1} n_{1} + C_{53} m_{3} n_{3} + C_{54} m_{2} n_{3} + C_{56} m_{3} n_{1} + C_{63} m_{3} n_{2} + C_{65} m_{2} n_{1} + C_{66} m_{2} n_{2}\\\\C_{21} m_{2} n_{1} + C_{25} m_{3} n_{2} + C_{26} m_{2} n_{2} + C_{41} m_{3} n_{1} + C_{45} m_{3} n_{3} + C_{46} m_{2} n_{3} + C_{61} m_{1} n_{1} + C_{65} m_{3} n_{1} + C_{66} m_{1} n_{2} & C_{12} m_{1} n_{2} + C_{22} m_{2} n_{2} + C_{24} m_{3} n_{2} + C_{26} m_{2} n_{1} + C_{42} m_{2} n_{3} + C_{44} m_{3} n_{3} + C_{46} m_{3} n_{1} + C_{66} m_{1} n_{1} + C_{66} m_{3} n_{1} & C_{23} m_{3} n_{2} + C_{24} m_{2} n_{2} + C_{25} m_{2} n_{1} + C_{43} m_{3} n_{3} + C_{44} m_{2} n_{3} + C_{45} m_{3} n_{1} + C_{63} m_{3} n_{1} + C_{65} m_{1} n_{1} + C_{66} m_{1} n_{2}\\\\C_{31} m_{3} n_{1} + C_{35} m_{3} n_{3} + C_{36} m_{2} n_{3} + C_{41} m_{2} n_{1} + C_{45} m_{3} n_{2} + C_{46} m_{2} n_{2} + C_{51} m_{1} n_{1} + C_{55} m_{3} n_{1} + C_{56} m_{1} n_{2} & C_{32} m_{2} n_{3} + C_{34} m_{3} n_{3} + C_{36} m_{3} n_{1} + C_{42} m_{2} n_{2} + C_{44} m_{3} n_{2} + C_{46} m_{2} n_{1} + C_{52} m_{1} n_{2} + C_{54} m_{3} n_{1} + C_{56} m_{1} n_{1} & C_{33} m_{3} n_{3} + C_{34} m_{2} n_{3} + C_{35} m_{3} n_{1} + C_{43} m_{3} n_{2} + C_{44} m_{2} n_{2} + C_{45} m_{2} n_{1} + C_{53} m_{3} n_{1} + C_{54} m_{1} n_{2} + C_{55} m_{1} n_{1}\\end{matrix}\\right]$"
     },
     "metadata": {},
     "execution_count": 16
    }
   ],
   "source": [
    "r_mat"
   ]
  },
  {
   "cell_type": "code",
   "execution_count": 18,
   "metadata": {},
   "outputs": [
    {
     "output_type": "execute_result",
     "data": {
      "text/plain": "Matrix([\n[C11*n1**2 + C15*n1*n3 + C16*n1*n2 + C51*n1*n3 + C55*n3**2 + C56*n2*n3 + C61*n1*n2 + C65*n2*n3 + C66*n2**2, C12*n1*n2 + C14*n1*n3 + C16*n1**2 + C52*n2*n3 + C54*n3**2 + C56*n1*n3 + C62*n2**2 + C66*n1*n2 + C66*n2*n3, C13*n1*n3 + C14*n1*n2 + C15*n1**2 + C53*n3**2 + C54*n2*n3 + C56*n1*n3 + C63*n2*n3 + C65*n1*n2 + C66*n2**2],\n[C21*n1*n2 + C25*n2*n3 + C26*n2**2 + C41*n1*n3 + C45*n3**2 + C46*n2*n3 + C61*n1**2 + C65*n1*n3 + C66*n1*n2, C12*n1*n2 + C22*n2**2 + C24*n2*n3 + C26*n1*n2 + C42*n2*n3 + C44*n3**2 + C46*n1*n3 + C66*n1**2 + C66*n1*n3, C23*n2*n3 + C24*n2**2 + C25*n1*n2 + C43*n3**2 + C44*n2*n3 + C45*n1*n3 + C63*n1*n3 + C65*n1**2 + C66*n1*n2],\n[C31*n1*n3 + C35*n3**2 + C36*n2*n3 + C41*n1*n2 + C45*n2*n3 + C46*n2**2 + C51*n1**2 + C55*n1*n3 + C56*n1*n2, C32*n2*n3 + C34*n3**2 + C36*n1*n3 + C42*n2**2 + C44*n2*n3 + C46*n1*n2 + C52*n1*n2 + C54*n1*n3 + C56*n1**2, C33*n3**2 + C34*n2*n3 + C35*n1*n3 + C43*n2*n3 + C44*n2**2 + C45*n1*n2 + C53*n1*n3 + C54*n1*n2 + C55*n1**2]])",
      "text/latex": "$\\displaystyle \\left[\\begin{matrix}C_{11} n_{1}^{2} + C_{15} n_{1} n_{3} + C_{16} n_{1} n_{2} + C_{51} n_{1} n_{3} + C_{55} n_{3}^{2} + C_{56} n_{2} n_{3} + C_{61} n_{1} n_{2} + C_{65} n_{2} n_{3} + C_{66} n_{2}^{2} & C_{12} n_{1} n_{2} + C_{14} n_{1} n_{3} + C_{16} n_{1}^{2} + C_{52} n_{2} n_{3} + C_{54} n_{3}^{2} + C_{56} n_{1} n_{3} + C_{62} n_{2}^{2} + C_{66} n_{1} n_{2} + C_{66} n_{2} n_{3} & C_{13} n_{1} n_{3} + C_{14} n_{1} n_{2} + C_{15} n_{1}^{2} + C_{53} n_{3}^{2} + C_{54} n_{2} n_{3} + C_{56} n_{1} n_{3} + C_{63} n_{2} n_{3} + C_{65} n_{1} n_{2} + C_{66} n_{2}^{2}\\\\C_{21} n_{1} n_{2} + C_{25} n_{2} n_{3} + C_{26} n_{2}^{2} + C_{41} n_{1} n_{3} + C_{45} n_{3}^{2} + C_{46} n_{2} n_{3} + C_{61} n_{1}^{2} + C_{65} n_{1} n_{3} + C_{66} n_{1} n_{2} & C_{12} n_{1} n_{2} + C_{22} n_{2}^{2} + C_{24} n_{2} n_{3} + C_{26} n_{1} n_{2} + C_{42} n_{2} n_{3} + C_{44} n_{3}^{2} + C_{46} n_{1} n_{3} + C_{66} n_{1}^{2} + C_{66} n_{1} n_{3} & C_{23} n_{2} n_{3} + C_{24} n_{2}^{2} + C_{25} n_{1} n_{2} + C_{43} n_{3}^{2} + C_{44} n_{2} n_{3} + C_{45} n_{1} n_{3} + C_{63} n_{1} n_{3} + C_{65} n_{1}^{2} + C_{66} n_{1} n_{2}\\\\C_{31} n_{1} n_{3} + C_{35} n_{3}^{2} + C_{36} n_{2} n_{3} + C_{41} n_{1} n_{2} + C_{45} n_{2} n_{3} + C_{46} n_{2}^{2} + C_{51} n_{1}^{2} + C_{55} n_{1} n_{3} + C_{56} n_{1} n_{2} & C_{32} n_{2} n_{3} + C_{34} n_{3}^{2} + C_{36} n_{1} n_{3} + C_{42} n_{2}^{2} + C_{44} n_{2} n_{3} + C_{46} n_{1} n_{2} + C_{52} n_{1} n_{2} + C_{54} n_{1} n_{3} + C_{56} n_{1}^{2} & C_{33} n_{3}^{2} + C_{34} n_{2} n_{3} + C_{35} n_{1} n_{3} + C_{43} n_{2} n_{3} + C_{44} n_{2}^{2} + C_{45} n_{1} n_{2} + C_{53} n_{1} n_{3} + C_{54} n_{1} n_{2} + C_{55} n_{1}^{2}\\end{matrix}\\right]$"
     },
     "metadata": {},
     "execution_count": 18
    }
   ],
   "source": [
    "t_mat"
   ]
  },
  {
   "cell_type": "code",
   "execution_count": 33,
   "metadata": {},
   "outputs": [
    {
     "output_type": "execute_result",
     "data": {
      "text/plain": "Matrix([\n[C11 + C15 + C16 + C51 + C55 + C56 + C61 + C65 + C66 - rho*v**2,            C12 + C14 + C16 + C52 + C54 + C56 + C62 + 2*C66,            C13 + C14 + C15 + C53 + C54 + C56 + C63 + C65 + C66],\n[           C21 + C25 + C26 + C41 + C45 + C46 + C61 + C65 + C66, C12 + C22 + C24 + C26 + C42 + C44 + C46 + 2*C66 - rho*v**2,            C23 + C24 + C25 + C43 + C44 + C45 + C63 + C65 + C66],\n[           C31 + C35 + C36 + C41 + C45 + C46 + C51 + C55 + C56,        C32 + C34 + C36 + C42 + C44 + C46 + C52 + C54 + C56, C33 + C34 + C35 + C43 + C44 + C45 + C53 + C54 + C55 - rho*v**2]])",
      "text/latex": "$\\displaystyle \\left[\\begin{matrix}C_{11} + C_{15} + C_{16} + C_{51} + C_{55} + C_{56} + C_{61} + C_{65} + C_{66} - \\rho v^{2} & C_{12} + C_{14} + C_{16} + C_{52} + C_{54} + C_{56} + C_{62} + 2 C_{66} & C_{13} + C_{14} + C_{15} + C_{53} + C_{54} + C_{56} + C_{63} + C_{65} + C_{66}\\\\C_{21} + C_{25} + C_{26} + C_{41} + C_{45} + C_{46} + C_{61} + C_{65} + C_{66} & C_{12} + C_{22} + C_{24} + C_{26} + C_{42} + C_{44} + C_{46} + 2 C_{66} - \\rho v^{2} & C_{23} + C_{24} + C_{25} + C_{43} + C_{44} + C_{45} + C_{63} + C_{65} + C_{66}\\\\C_{31} + C_{35} + C_{36} + C_{41} + C_{45} + C_{46} + C_{51} + C_{55} + C_{56} & C_{32} + C_{34} + C_{36} + C_{42} + C_{44} + C_{46} + C_{52} + C_{54} + C_{56} & C_{33} + C_{34} + C_{35} + C_{43} + C_{44} + C_{45} + C_{53} + C_{54} + C_{55} - \\rho v^{2}\\end{matrix}\\right]$"
     },
     "metadata": {},
     "execution_count": 33
    }
   ],
   "source": [
    "q_mat"
   ]
  }
 ],
 "metadata": {
  "language_info": {
   "codemirror_mode": {
    "name": "ipython",
    "version": 3
   },
   "file_extension": ".py",
   "mimetype": "text/x-python",
   "name": "python",
   "nbconvert_exporter": "python",
   "pygments_lexer": "ipython3",
   "version": "3.7.6-final"
  },
  "orig_nbformat": 2,
  "kernelspec": {
   "name": "python3",
   "display_name": "Python 3"
  }
 },
 "nbformat": 4,
 "nbformat_minor": 2
}