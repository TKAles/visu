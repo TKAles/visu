{
 "cells": [
  {
   "cell_type": "markdown",
   "metadata": {},
   "source": [
    "# TekCollection Test Harness  \n",
    "### Thomas Ales | June 2020  \n",
    "-----\n",
    "Testing for TekCollection functionality."
   ]
  },
  {
   "cell_type": "code",
   "execution_count": 10,
   "metadata": {},
   "outputs": [],
   "source": [
    "import MapCollection\n",
    "\n",
    "import matplotlib.pyplot as plt"
   ]
  },
  {
   "cell_type": "code",
   "execution_count": 11,
   "metadata": {},
   "outputs": [
    {
     "output_type": "error",
     "ename": "SyntaxError",
     "evalue": "invalid syntax (<ipython-input-11-6674f4755b30>, line 1)",
     "traceback": [
      "\u001b[1;36m  File \u001b[1;32m\"<ipython-input-11-6674f4755b30>\"\u001b[1;36m, line \u001b[1;32m1\u001b[0m\n\u001b[1;33m    data_dirs = [r'C:\\Users\\tka\\source\\repos\\data\\customer042\\PostFix\\000\\', r'C:\\Users\\tka\\source\\repos\\data\\customer042\\PostFix\\020', r'C:\\Users\\tka\\source\\repos\\data\\customer042\\PostFix\\040', r'C:\\Users\\tka\\source\\repos\\data\\customer042\\PostFix\\060', r'C:\\Users\\tka\\source\\repos\\data\\customer042\\PostFix\\080', r'C:\\Users\\tka\\source\\repos\\data\\customer042\\PostFix\\100',\u001b[0m\n\u001b[1;37m                                                                               ^\u001b[0m\n\u001b[1;31mSyntaxError\u001b[0m\u001b[1;31m:\u001b[0m invalid syntax\n"
     ]
    }
   ],
   "source": [
    "data_dirs = [r'C:\\Users\\tka\\source\\repos\\data\\customer042\\PostFix\\000', r'C:\\Users\\tka\\source\\repos\\data\\customer042\\PostFix\\020', r'C:\\Users\\tka\\source\\repos\\data\\customer042\\PostFix\\040', r'C:\\Users\\tka\\source\\repos\\data\\customer042\\PostFix\\060', r'C:\\Users\\tka\\source\\repos\\data\\customer042\\PostFix\\080', r'C:\\Users\\tka\\source\\repos\\data\\customer042\\PostFix\\100',\n",
    "r'C:\\Users\\tka\\source\\repos\\data\\customer042\\PostFix\\120', r'C:\\Users\\tka\\source\\repos\\data\\customer042\\PostFix\\140',\n",
    "r'C:\\Users\\tka\\source\\repos\\data\\customer042\\PostFix\\160']"
   ]
  },
  {
   "cell_type": "code",
   "execution_count": 12,
   "metadata": {},
   "outputs": [],
   "source": [
    "test_collection = MapCollection.TekCollection(data_dirs, '')"
   ]
  },
  {
   "cell_type": "code",
   "execution_count": 13,
   "metadata": {},
   "outputs": [
    {
     "output_type": "error",
     "ename": "FileNotFoundError",
     "evalue": "[WinError 2] The system cannot find the file specified: 'C:\\\\Users\\\\tka\\\\source\\\\repos\\\\data\\\\customer042\\\\PostFix\\\\000'",
     "traceback": [
      "\u001b[1;31m---------------------------------------------------------------------------\u001b[0m",
      "\u001b[1;31mFileNotFoundError\u001b[0m                         Traceback (most recent call last)",
      "\u001b[1;32m<ipython-input-13-35bd142a3db0>\u001b[0m in \u001b[0;36m<module>\u001b[1;34m\u001b[0m\n\u001b[1;32m----> 1\u001b[1;33m \u001b[0mtest_collection\u001b[0m\u001b[1;33m.\u001b[0m\u001b[0madd_map\u001b[0m\u001b[1;33m(\u001b[0m\u001b[1;33m)\u001b[0m\u001b[1;33m\u001b[0m\u001b[1;33m\u001b[0m\u001b[0m\n\u001b[0m",
      "\u001b[1;32mc:\\Users\\tka\\source\\repos\\visu\\MapCollection.py\u001b[0m in \u001b[0;36madd_map\u001b[1;34m(self)\u001b[0m\n\u001b[0;32m     25\u001b[0m     \u001b[1;32mdef\u001b[0m \u001b[0madd_map\u001b[0m\u001b[1;33m(\u001b[0m\u001b[0mself\u001b[0m\u001b[1;33m)\u001b[0m\u001b[1;33m:\u001b[0m\u001b[1;33m\u001b[0m\u001b[1;33m\u001b[0m\u001b[0m\n\u001b[0;32m     26\u001b[0m         \u001b[1;32mfor\u001b[0m \u001b[0m_currentdir\u001b[0m \u001b[1;32min\u001b[0m \u001b[0mself\u001b[0m\u001b[1;33m.\u001b[0m\u001b[0mdata_directories\u001b[0m\u001b[1;33m:\u001b[0m\u001b[1;33m\u001b[0m\u001b[1;33m\u001b[0m\u001b[0m\n\u001b[1;32m---> 27\u001b[1;33m             \u001b[0mself\u001b[0m\u001b[1;33m.\u001b[0m\u001b[0mmap_collections\u001b[0m\u001b[1;33m.\u001b[0m\u001b[0mappend\u001b[0m\u001b[1;33m(\u001b[0m\u001b[0mMapData\u001b[0m\u001b[1;33m.\u001b[0m\u001b[0mTekMap\u001b[0m\u001b[1;33m(\u001b[0m\u001b[0m_currentdir\u001b[0m\u001b[1;33m)\u001b[0m\u001b[1;33m)\u001b[0m\u001b[1;33m\u001b[0m\u001b[1;33m\u001b[0m\u001b[0m\n\u001b[0m\u001b[0;32m     28\u001b[0m         \u001b[1;32mreturn\u001b[0m\u001b[1;33m\u001b[0m\u001b[1;33m\u001b[0m\u001b[0m\n\u001b[0;32m     29\u001b[0m \u001b[1;33m\u001b[0m\u001b[0m\n",
      "\u001b[1;32mc:\\Users\\tka\\source\\repos\\visu\\MapData.py\u001b[0m in \u001b[0;36m__init__\u001b[1;34m(self, _datadir)\u001b[0m\n\u001b[0;32m     51\u001b[0m         \u001b[0mself\u001b[0m\u001b[1;33m.\u001b[0m\u001b[0mwaveforms\u001b[0m \u001b[1;33m=\u001b[0m \u001b[1;33m[\u001b[0m\u001b[1;33m]\u001b[0m\u001b[1;33m\u001b[0m\u001b[1;33m\u001b[0m\u001b[0m\n\u001b[0;32m     52\u001b[0m         \u001b[1;31m# Search for files in the map_directory. Sort into RF and DC waveforms\u001b[0m\u001b[1;33m\u001b[0m\u001b[1;33m\u001b[0m\u001b[1;33m\u001b[0m\u001b[0m\n\u001b[1;32m---> 53\u001b[1;33m         \u001b[0mos\u001b[0m\u001b[1;33m.\u001b[0m\u001b[0mchdir\u001b[0m\u001b[1;33m(\u001b[0m\u001b[0mself\u001b[0m\u001b[1;33m.\u001b[0m\u001b[0mmap_directory\u001b[0m\u001b[1;33m)\u001b[0m\u001b[1;33m\u001b[0m\u001b[1;33m\u001b[0m\u001b[0m\n\u001b[0m\u001b[0;32m     54\u001b[0m         \u001b[1;32mfor\u001b[0m \u001b[0mcurrent_file\u001b[0m \u001b[1;32min\u001b[0m \u001b[0mglob\u001b[0m\u001b[1;33m.\u001b[0m\u001b[0mglob\u001b[0m\u001b[1;33m(\u001b[0m\u001b[1;34m\"*.wfm\"\u001b[0m\u001b[1;33m)\u001b[0m\u001b[1;33m:\u001b[0m\u001b[1;33m\u001b[0m\u001b[1;33m\u001b[0m\u001b[0m\n\u001b[0;32m     55\u001b[0m             \u001b[1;32mif\u001b[0m\u001b[1;33m(\u001b[0m\u001b[0mcurrent_file\u001b[0m\u001b[1;33m.\u001b[0m\u001b[0mstartswith\u001b[0m\u001b[1;33m(\u001b[0m\u001b[1;34m\"RF\"\u001b[0m\u001b[1;33m)\u001b[0m\u001b[1;33m)\u001b[0m\u001b[1;33m:\u001b[0m\u001b[1;33m\u001b[0m\u001b[1;33m\u001b[0m\u001b[0m\n",
      "\u001b[1;31mFileNotFoundError\u001b[0m: [WinError 2] The system cannot find the file specified: 'C:\\\\Users\\\\tka\\\\source\\\\repos\\\\data\\\\customer042\\\\PostFix\\\\000'"
     ]
    }
   ],
   "source": [
    "test_collection.add_map()"
   ]
  },
  {
   "cell_type": "code",
   "execution_count": 14,
   "metadata": {},
   "outputs": [],
   "source": [
    "angles = [\"0\", \"20\", \"40\", \"60\", \"80\", \"100\", \"120\", \"140\", \"160\"]"
   ]
  },
  {
   "cell_type": "code",
   "execution_count": 15,
   "metadata": {},
   "outputs": [
    {
     "output_type": "error",
     "ename": "IndexError",
     "evalue": "list index out of range",
     "traceback": [
      "\u001b[1;31m---------------------------------------------------------------------------\u001b[0m",
      "\u001b[1;31mIndexError\u001b[0m                                Traceback (most recent call last)",
      "\u001b[1;32m<ipython-input-15-563171c685dd>\u001b[0m in \u001b[0;36m<module>\u001b[1;34m\u001b[0m\n\u001b[0;32m      1\u001b[0m \u001b[1;31m# fix metadata\u001b[0m\u001b[1;33m\u001b[0m\u001b[1;33m\u001b[0m\u001b[1;33m\u001b[0m\u001b[0m\n\u001b[0;32m      2\u001b[0m \u001b[1;32mfor\u001b[0m \u001b[0midx\u001b[0m\u001b[1;33m,\u001b[0m \u001b[0mangle\u001b[0m \u001b[1;32min\u001b[0m \u001b[0menumerate\u001b[0m\u001b[1;33m(\u001b[0m\u001b[0mrange\u001b[0m\u001b[1;33m(\u001b[0m\u001b[1;36m0\u001b[0m\u001b[1;33m,\u001b[0m \u001b[1;36m101\u001b[0m\u001b[1;33m,\u001b[0m \u001b[1;36m20\u001b[0m\u001b[1;33m)\u001b[0m\u001b[1;33m)\u001b[0m\u001b[1;33m:\u001b[0m\u001b[1;33m\u001b[0m\u001b[1;33m\u001b[0m\u001b[0m\n\u001b[1;32m----> 3\u001b[1;33m     \u001b[0mtest_collection\u001b[0m\u001b[1;33m.\u001b[0m\u001b[0mmap_collections\u001b[0m\u001b[1;33m[\u001b[0m\u001b[0midx\u001b[0m\u001b[1;33m]\u001b[0m\u001b[1;33m.\u001b[0m\u001b[0mmetadata\u001b[0m\u001b[1;33m[\u001b[0m\u001b[1;34m\"acq_angle\"\u001b[0m\u001b[1;33m]\u001b[0m \u001b[1;33m=\u001b[0m \u001b[0mangle\u001b[0m\u001b[1;33m\u001b[0m\u001b[1;33m\u001b[0m\u001b[0m\n\u001b[0m\u001b[0;32m      4\u001b[0m     \u001b[0mtest_collection\u001b[0m\u001b[1;33m.\u001b[0m\u001b[0mmap_collections\u001b[0m\u001b[1;33m[\u001b[0m\u001b[0midx\u001b[0m\u001b[1;33m]\u001b[0m\u001b[1;33m.\u001b[0m\u001b[0mmetadata\u001b[0m\u001b[1;33m[\u001b[0m\u001b[1;34m\"sample_desc\"\u001b[0m\u001b[1;33m]\u001b[0m \u001b[1;33m=\u001b[0m \u001b[1;34m\"Test Sample\"\u001b[0m\u001b[1;33m\u001b[0m\u001b[1;33m\u001b[0m\u001b[0m\n\u001b[0;32m      5\u001b[0m \u001b[1;33m\u001b[0m\u001b[0m\n",
      "\u001b[1;31mIndexError\u001b[0m: list index out of range"
     ]
    }
   ],
   "source": [
    "# fix metadata\n",
    "for idx, angle in enumerate(range(0, 161, 20)):\n",
    "    test_collection.map_collections[idx].metadata[\"acq_angle\"] = angle\n",
    "    test_collection.map_collections[idx].metadata[\"sample_desc\"] = \"Test Sample\"\n",
    "\n",
    "for current in range(0, angles.__len__()):\n",
    "    print(\"Processing Angle {0}\".format(angles[current]))\n",
    "    test_collection.map_collections[current].assemble_dcmap()\n",
    "    print(\"Angle {0} DC assembly completed...\".format(current))\n",
    "    test_collection.map_collections[current].assemble_fftmap()\n",
    "    print(\"Angle {0} FFT assembly completed...\".format(current))\n",
    "    test_collection.map_collections[current].assemble_velocitymap()\n",
    "    print(\"Angle {0} velocity map assembly completed...\".format(current))\n",
    "    test_collection.map_collections[current].assemble_rf_voltagemap()\n",
    "    print(\"Angle {0} RF Peak Voltage assembly completed...\".format(current))\n",
    "for current in range(0, test_collection.map_collections.__len__()):\n",
    "    test_collection.map_collections[current].plot_dcmap()\n",
    "\n",
    "    "
   ]
  },
  {
   "cell_type": "code",
   "execution_count": 16,
   "metadata": {},
   "outputs": [],
   "source": [
    "import pandas as pd\n",
    "# Extract a few test pixels\n",
    "wavespeeds = []\n",
    "voltages = []\n",
    "dcdf = []\n",
    "vdf = []\n",
    "startpoint = 1000\n",
    "endpoint = 1010\n",
    "for angle in range(0, test_collection.map_collections.__len__()):\n",
    "    _dcmdf = pd.DataFrame(test_collection.map_collections[angle].dc_map)\n",
    "    dcdf.append(_dcmdf)\n",
    "    _veldf = pd.DataFrame(test_collection.map_collections[angle].velocity_map)\n",
    "    vdf.append(_veldf)\n",
    "    voltages.append(_dcmdf.iloc[:, startpoint:endpoint])\n",
    "    wavespeeds.append(_veldf.iloc[:, startpoint:endpoint])"
   ]
  },
  {
   "cell_type": "code",
   "execution_count": 17,
   "metadata": {},
   "outputs": [],
   "source": [
    "speeds = []\n",
    "voltages = []\n",
    "for idx, current in enumerate(wavespeeds):\n",
    "    speeds.append(current.iloc[0][1002])\n",
    "    voltages.append(dcdf[idx].iloc[0][1002])"
   ]
  },
  {
   "cell_type": "code",
   "execution_count": 18,
   "metadata": {},
   "outputs": [],
   "source": [
    "for current in range(0, test_collection.map_collections.__len__()):\n",
    "    test_collection.map_collections[current].plot_velocitymap()"
   ]
  },
  {
   "cell_type": "code",
   "execution_count": null,
   "metadata": {},
   "outputs": [],
   "source": []
  }
 ],
 "metadata": {
  "kernelspec": {
   "display_name": "Python 3",
   "language": "python",
   "name": "python3"
  },
  "language_info": {
   "codemirror_mode": {
    "name": "ipython",
    "version": 3
   },
   "file_extension": ".py",
   "mimetype": "text/x-python",
   "name": "python",
   "nbconvert_exporter": "python",
   "pygments_lexer": "ipython3",
   "version": "3.7.6-final"
  }
 },
 "nbformat": 4,
 "nbformat_minor": 2
}