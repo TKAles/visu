{
 "cells": [
  {
   "cell_type": "code",
   "execution_count": 1,
   "metadata": {},
   "outputs": [],
   "source": [
    "import numpy as np\n",
    "import scipy as sp\n",
    "import pandas as pd\n",
    "import matplotlib.pyplot as plt"
   ]
  },
  {
   "cell_type": "code",
   "execution_count": 272,
   "metadata": {},
   "outputs": [],
   "source": [
    "class WaveModel:\n",
    "\n",
    "    def __init__(self, _modelfile=''):\n",
    "        '''\n",
    "        WaveModel.init(_modelfile='') - Initalizes the WaveModel class and loads in a modelfile.\n",
    "        '''\n",
    "        self.modelfile = np.loadtxt('/home/tka/source/wenqi/tiAlphaProcessed_wavespeeds.csv',\n",
    "                        delimiter=',')\n",
    "        self.planes = self.modelfile[:, 1:3]\n",
    "        self.modelfile = self.modelfile[:,3:184] * 1000.0\n",
    "\n",
    "    def compute_gaussian(self, _x, _mean, _width):\n",
    "        return (1 / np.sqrt(2*np.pi*(_width**2)))*np.exp((-(_x-_mean)**2)/(2*(_width**2)))\n",
    "\n",
    "test_wm = WaveModel()"
   ]
  },
  {
   "cell_type": "code",
   "execution_count": 81,
   "metadata": {},
   "outputs": [],
   "source": [
    "import pickle\n",
    "model = pickle.load(open('/home/tka/source/modelplane.p', 'rb'))\n",
    "expdata = pickle.load(open('/home/tka/source/expplane.p', 'rb'))"
   ]
  },
  {
   "cell_type": "code",
   "execution_count": 153,
   "metadata": {},
   "outputs": [
    {
     "name": "stdout",
     "output_type": "stream",
     "text": [
      "2746,2760,2775,2789,2803,2817,2832,2846,2860,2875,2889,2903,2918,2932,2946,2960,2975,2989,3003,3018,3032,3033,3034,3035,3036,3037,3038,3039,3040,3041,3041,3042,3043,3044,3045,3046,3047,3048,3049,3050,3051,3052,3053,3054,3055,3056,3057,3058,3059,3060,3061,3062,3062,3063,3064,3065,3066,3067,3068,3069,3070,3069,3068,3067,3066,3065,3064,3063,3062,3062,3061,3060,3059,3058,3057,3056,3055,3054,3053,3052,3051,3050,3049,3048,3047,3046,3045,3044,3043,3042,3041,3041,3040,3039,3038,3037,3036,3035,3034,3033,3032,3033,3034,3035,3036,3037,3038,3039,3040,3041,3041,3042,3043,3044,3045,3046,3047,3048,3049,3050,3051,3035,3019,3002,2986,2970,2954,2938,2921,2905,2889,2873,2857,2840,2824,2808,2792,2775,2759,2743,2727,2728,2729,2730,2731,2732,2733,2734,2734,2735,2736,2737,2738,2739,2740,2741,2742,2743,2744,2745,2746,2746,2746,2746,2746,2746,2746,2746,2746,2746,2746,2746,2746,2746,2746,2746,2746,2746,2746,2746,2746\n"
     ]
    }
   ],
   "source": [
    "modlist = model.tolist()\n",
    "modlist = [str('{0:.0f}'.format(x)) for x in modlist]\n",
    "modelplane = ','.join(modlist)\n",
    "experimentalplane = expdata.tolist()\n",
    "experimentalplane = [str('{0:.0f}'.format(x)) for x in experimentalplane]\n",
    "experimentalplane = ','.join(experimentalplane)\n",
    "print(experimentalplane)"
   ]
  },
  {
   "cell_type": "code",
   "execution_count": 290,
   "metadata": {},
   "outputs": [
    {
     "name": "stdout",
     "output_type": "stream",
     "text": [
      "Total Python Execution: 20.85ms\n",
      "C++ Execution time is 5ms.\n",
      "\n",
      "0\t0\n"
     ]
    }
   ],
   "source": [
    "import os\n",
    "import time\n",
    "testplane = r' \"3450,3555,3445,3450,3450,3450,3555,3445,3450,3450,3450,3555,3445,3450,3450,3450,3555,3445,3450,3450,3450,3555,3445,3450,3450,3450,3555,3445,3450,3450,3450,3555,3445,3450,3450,3450,3555,3445,3450,3450,3450,3555,3445,3450,3450,3450,3555,3445,3450,3450,3450,3555,3445,3450,3450,3450,3555,3445,3450,3450,3450,3555,3445,3450,3450,3450,3555,3445,3450,3450,3450,3555,3445,3450,3450,3450,3555,3445,3450,3450,3450,3555,3445,3450,3450,3450,3555,3445,3450,3450,3450,3555,3445,3450,3450,3450,3555,3445,3450,3450,3450,3555,3445,3450,3450,3450,3555,3445,3450,3450,3450,3555,3445,3450,3450,3450,3555,3445,3450,3450,3450,3555,3445,3450,3450,3450,3555,3445,3450,3450,3450,3555,3445,3450,3450,3450,3555,3445,3450,3450,3450,3555,3445,3450,3450,3450,3555,3445,3450,3450,3450,3555,3445,3450,3450,3450,3555,3445,3450,3450,3450,3555,3445,3450,3450,3450,3555,3445,3450,3450,3450,3555,3445,3450,3450,3450,3555,3445,3450,3450,3450,3555,3445\"'\n",
    "excmd = '/home/tka/eclipse-workspace/planeoc/Debug/planeoc \"' + modelplane + '\" \"' + experimentalplane + '\"'\n",
    "#rint(excmd)\n",
    "t1 = time.time()\n",
    "result = []\n",
    "# PLANE OverClock....get it? get it?\n",
    "stream = os.popen(excmd)\n",
    "result = stream.read()\n",
    "#print(result)\n",
    "t2 = time.time()\n",
    "print(\"Total Python Execution: {0:.2f}ms\".format((t2-t1)*1000))\n",
    "print(\"{0}\\n{1}\\t{2}\".format(result.split(',')[-1], result.split(',')[-2], result.split(',')[-3]))\n"
   ]
  },
  {
   "cell_type": "code",
   "execution_count": 291,
   "metadata": {},
   "outputs": [],
   "source": [
    "resultf = []\n",
    "for x in range(0, 180):\n",
    "    resultf.append(float(result.split(',')[x]))"
   ]
  },
  {
   "cell_type": "code",
   "execution_count": 181,
   "metadata": {},
   "outputs": [],
   "source": [
    "\n",
    "angle = []\n",
    "fitness = []\n",
    "for idx, item in enumerate(result[:-52].split(',')):\n",
    "    if(idx % 2 == 0):\n",
    "        angle.append(item)\n",
    "    else:\n",
    "        fitness.append(item)\n",
    "fitness[-1] = fitness[-1].split(',')[0].split('\\n')[0]\n",
    "fitness = [float(i) for i in fitness]\n",
    "angle = [float(i) for i in angle]\n",
    "    "
   ]
  },
  {
   "cell_type": "code",
   "execution_count": 182,
   "metadata": {},
   "outputs": [
    {
     "data": {
      "text/plain": [
       "(0, 2)"
      ]
     },
     "execution_count": 182,
     "metadata": {},
     "output_type": "execute_result"
    },
    {
     "data": {
      "image/png": "[encoded data removed]",
      "text/plain": [
       "<Figure size 432x288 with 1 Axes>"
      ]
     },
     "metadata": {
      "needs_background": "light"
     },
     "output_type": "display_data"
    }
   ],
   "source": [
    "plt.plot(fitness)\n",
    "plt.ylim(0, 2)"
   ]
  },
  {
   "cell_type": "code",
   "execution_count": 292,
   "metadata": {},
   "outputs": [],
   "source": [
    "for x in range(0, 182):\n",
    "    resultdf[x] = pd.to_numeric(resultdf[x],errors='coerce')"
   ]
  },
  {
   "cell_type": "code",
   "execution_count": 293,
   "metadata": {},
   "outputs": [
    {
     "data": {
      "text/plain": [
       "[0.675621,\n",
       " 0.665809,\n",
       " 0.656105,\n",
       " 0.64651,\n",
       " 0.637028,\n",
       " 0.627635,\n",
       " 0.618162,\n",
       " 0.608617,\n",
       " 0.599014,\n",
       " 0.589361,\n",
       " 0.579673,\n",
       " 0.569924,\n",
       " 0.560131,\n",
       " 0.550372,\n",
       " 0.540631,\n",
       " 0.531004,\n",
       " 0.521373,\n",
       " 0.511734,\n",
       " 0.502113,\n",
       " 0.492507,\n",
       " 0.482911,\n",
       " 0.473308,\n",
       " 0.463687,\n",
       " 0.454021,\n",
       " 0.444304,\n",
       " 0.434508,\n",
       " 0.424715,\n",
       " 0.414948,\n",
       " 0.405227,\n",
       " 0.395577,\n",
       " 0.385982,\n",
       " 0.376405,\n",
       " 0.36682,\n",
       " 0.356617,\n",
       " 0.345508,\n",
       " 0.333232,\n",
       " 0.319528,\n",
       " 0.304651,\n",
       " 0.288859,\n",
       " 0.27276,\n",
       " 0.257099,\n",
       " 0.242455,\n",
       " 0.229162,\n",
       " 0.217244,\n",
       " 0.20651,\n",
       " 0.196728,\n",
       " 0.187757,\n",
       " 0.179459,\n",
       " 0.171841,\n",
       " 0.165059,\n",
       " 0.159449,\n",
       " 0.155298,\n",
       " 0.152851,\n",
       " 0.150503,\n",
       " 0.148123,\n",
       " 0.145735,\n",
       " 0.143207,\n",
       " 0.140307,\n",
       " 0.136647,\n",
       " 0.131906,\n",
       " 0.125807,\n",
       " 0.119908,\n",
       " 0.114189,\n",
       " 0.108733,\n",
       " 0.103451,\n",
       " 0.0983438,\n",
       " 0.0933953,\n",
       " 0.0886057,\n",
       " 0.0839612,\n",
       " 0.0794642,\n",
       " 0.0751031,\n",
       " 0.0707745,\n",
       " 0.0665604,\n",
       " 0.0626373,\n",
       " 0.0590001,\n",
       " 0.0556379,\n",
       " 0.0524574,\n",
       " 0.0495411,\n",
       " 0.0468844,\n",
       " 0.0444843,\n",
       " 0.0423385,\n",
       " 0.0402822,\n",
       " 0.0382029,\n",
       " 0.0361904,\n",
       " 0.0342493,\n",
       " 0.0323815,\n",
       " 0.0314477,\n",
       " 0.0312161,\n",
       " 0.0313996,\n",
       " 0.0318295,\n",
       " 0.0325005,\n",
       " 0.0332653,\n",
       " 0.0341285,\n",
       " 0.0351445,\n",
       " 0.0364493,\n",
       " 0.0382042,\n",
       " 0.0406409,\n",
       " 0.0440953,\n",
       " 0.0487166,\n",
       " 0.0545956,\n",
       " 0.0617119,\n",
       " 0.0696393,\n",
       " 0.0778744,\n",
       " 0.0858462,\n",
       " 0.0928775,\n",
       " 0.0931741,\n",
       " 0.0934876,\n",
       " 0.0938285,\n",
       " 0.0942028,\n",
       " 0.0946136,\n",
       " 0.0950552,\n",
       " 0.0955193,\n",
       " 0.0960848,\n",
       " 0.0964776,\n",
       " 0.0966879,\n",
       " 0.0967994,\n",
       " 0.0967384,\n",
       " 0.0965777,\n",
       " 0.0962318,\n",
       " 0.0957609,\n",
       " 0.0950775,\n",
       " 0.0945084,\n",
       " 0.093973,\n",
       " 0.0934814,\n",
       " 0.0930394,\n",
       " 0.0926449,\n",
       " 0.0922918,\n",
       " 0.0919665,\n",
       " 0.0916587,\n",
       " 0.0912622,\n",
       " 0.0909522,\n",
       " 0.0906594,\n",
       " 0.0904523,\n",
       " 0.0902437,\n",
       " 0.0900934,\n",
       " 0.0899082,\n",
       " 0.089754,\n",
       " 0.089643,\n",
       " 0.0895803,\n",
       " 0.0895697,\n",
       " 0.0896085,\n",
       " 0.089688,\n",
       " 0.0898003,\n",
       " 0.0900231,\n",
       " 0.0902498,\n",
       " 0.0905647,\n",
       " 0.090859,\n",
       " 0.0911108,\n",
       " 0.091405,\n",
       " 0.0916391,\n",
       " 0.0919126,\n",
       " 0.092144,\n",
       " 0.0923318,\n",
       " 0.0916129,\n",
       " 0.090186,\n",
       " 0.088321,\n",
       " 0.0861097,\n",
       " 0.0834054,\n",
       " 0.080197,\n",
       " 0.0762587,\n",
       " 0.0712945,\n",
       " 0.0658518,\n",
       " 0.0595895,\n",
       " 0.0522975,\n",
       " 0.0439165,\n",
       " 0.0349711,\n",
       " 0.0260899,\n",
       " 0.0180078,\n",
       " 0.0112104,\n",
       " 0.00595556,\n",
       " 0.00229039,\n",
       " 7.06623e-08,\n",
       " 1.6871e-08,\n",
       " 3.68029e-09,\n",
       " 6.89604e-10,\n",
       " 1.30542e-10,\n",
       " 2.27871e-11,\n",
       " 3.58422e-12,\n",
       " 4.20151e-13,\n",
       " 0.0]"
      ]
     },
     "execution_count": 293,
     "metadata": {},
     "output_type": "execute_result"
    }
   ],
   "source": [
    "resultf"
   ]
  },
  {
   "cell_type": "code",
   "execution_count": 294,
   "metadata": {},
   "outputs": [
    {
     "data": {
      "text/plain": [
       "[<matplotlib.lines.Line2D at 0x7f3581bf61d0>]"
      ]
     },
     "execution_count": 294,
     "metadata": {},
     "output_type": "execute_result"
    },
    {
     "data": {
      "image/png": "[encoded data removed]",
      "text/plain": [
       "<Figure size 432x288 with 1 Axes>"
      ]
     },
     "metadata": {
      "needs_background": "light"
     },
     "output_type": "display_data"
    }
   ],
   "source": [
    "plt.plot(resultf)"
   ]
  },
  {
   "cell_type": "code",
   "execution_count": 260,
   "metadata": {},
   "outputs": [
    {
     "data": {
      "text/plain": [
       "[<matplotlib.lines.Line2D at 0x7f3581ef95d0>]"
      ]
     },
     "execution_count": 260,
     "metadata": {},
     "output_type": "execute_result"
    },
    {
     "data": {
      "image/png": "[encoded data removed]",
      "text/plain": [
       "<Figure size 432x288 with 1 Axes>"
      ]
     },
     "metadata": {
      "needs_background": "light"
     },
     "output_type": "display_data"
    }
   ],
   "source": [
    "plt.plot(np.roll(model, 0), '.')\n",
    "plt.plot(expdata, '.')"
   ]
  },
  {
   "cell_type": "code",
   "execution_count": 295,
   "metadata": {},
   "outputs": [
    {
     "data": {
      "text/plain": [
       "5.3046370690149146e-14"
      ]
     },
     "execution_count": 295,
     "metadata": {},
     "output_type": "execute_result"
    }
   ],
   "source": [
    "test_wm.compute_gaussian(expdata[0], model[0], 50)"
   ]
  },
  {
   "cell_type": "code",
   "execution_count": null,
   "metadata": {},
   "outputs": [],
   "source": []
  }
 ],
 "metadata": {
  "kernelspec": {
   "display_name": "Python 3",
   "language": "python",
   "name": "python3"
  },
  "language_info": {
   "codemirror_mode": {
    "name": "ipython",
    "version": 3
   },
   "file_extension": ".py",
   "mimetype": "text/x-python",
   "name": "python",
   "nbconvert_exporter": "python",
   "pygments_lexer": "ipython3",
   "version": "3.7.6"
  }
 },
 "nbformat": 4,
 "nbformat_minor": 4
}
